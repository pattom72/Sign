{
  "nbformat": 4,
  "nbformat_minor": 0,
  "metadata": {
    "colab": {
      "name": "day5_sign.ipynb",
      "provenance": [],
      "mount_file_id": "1993_QpAUCOPbso6Xv5xlwmCT9P7_5g9q",
      "authorship_tag": "ABX9TyPKiid4j3Di6T8yX+AkQfAD",
      "include_colab_link": true
    },
    "kernelspec": {
      "name": "python3",
      "display_name": "Python 3"
    },
    "accelerator": "GPU"
  },
  "cells": [
    {
      "cell_type": "markdown",
      "metadata": {
        "id": "view-in-github",
        "colab_type": "text"
      },
      "source": [
        "<a href=\"https://colab.research.google.com/github/pattom72/Sign/blob/master/day5_sign.ipynb\" target=\"_parent\"><img src=\"https://colab.research.google.com/assets/colab-badge.svg\" alt=\"Open In Colab\"/></a>"
      ]
    },
    {
      "cell_type": "code",
      "metadata": {
        "id": "NO-H7Z5QV4V8",
        "colab_type": "code",
        "colab": {
          "base_uri": "https://localhost:8080/",
          "height": 163
        },
        "outputId": "d8809ea8-f0f6-4201-92b9-6b6f64982c3b"
      },
      "source": [
        "!pip install hyperopt"
      ],
      "execution_count": 1,
      "outputs": [
        {
          "output_type": "stream",
          "text": [
            "Requirement already satisfied: hyperopt in /usr/local/lib/python3.6/dist-packages (0.1.2)\n",
            "Requirement already satisfied: networkx in /usr/local/lib/python3.6/dist-packages (from hyperopt) (2.4)\n",
            "Requirement already satisfied: pymongo in /usr/local/lib/python3.6/dist-packages (from hyperopt) (3.10.1)\n",
            "Requirement already satisfied: six in /usr/local/lib/python3.6/dist-packages (from hyperopt) (1.12.0)\n",
            "Requirement already satisfied: scipy in /usr/local/lib/python3.6/dist-packages (from hyperopt) (1.4.1)\n",
            "Requirement already satisfied: future in /usr/local/lib/python3.6/dist-packages (from hyperopt) (0.16.0)\n",
            "Requirement already satisfied: tqdm in /usr/local/lib/python3.6/dist-packages (from hyperopt) (4.38.0)\n",
            "Requirement already satisfied: numpy in /usr/local/lib/python3.6/dist-packages (from hyperopt) (1.18.2)\n",
            "Requirement already satisfied: decorator>=4.3.0 in /usr/local/lib/python3.6/dist-packages (from networkx->hyperopt) (4.4.2)\n"
          ],
          "name": "stdout"
        }
      ]
    },
    {
      "cell_type": "code",
      "metadata": {
        "id": "fLMJapIFWWWn",
        "colab_type": "code",
        "colab": {}
      },
      "source": [
        "\n",
        "import pandas as pd\n",
        "import numpy as np\n",
        "\n",
        "import matplotlib.pyplot as plt\n",
        "from skimage import color, exposure\n",
        "\n",
        "from sklearn.metrics import accuracy_score\n",
        "\n",
        "import os\n",
        "import datetime\n",
        "\n",
        "from hyperopt import hp, STATUS_OK, tpe, Trials, fmin\n",
        "\n",
        "import tensorflow as tf\n",
        "from tensorflow.keras.models import Sequential\n",
        "from tensorflow.keras.layers import Conv2D, MaxPool2D, Dense, Flatten, Dropout\n",
        "from tensorflow.keras.utils import to_categorical\n",
        "\n",
        "%load_ext tensorboard"
      ],
      "execution_count": 0,
      "outputs": []
    },
    {
      "cell_type": "code",
      "metadata": {
        "id": "s8NmSfJKWZlc",
        "colab_type": "code",
        "colab": {
          "base_uri": "https://localhost:8080/",
          "height": 33
        },
        "outputId": "4b201b47-e12a-4bdd-c4b8-c8f33fcdae09"
      },
      "source": [
        "cd \"/content/drive/My Drive/Colab Notebooks/matrix_three_road_signs/\""
      ],
      "execution_count": 3,
      "outputs": [
        {
          "output_type": "stream",
          "text": [
            "/content/drive/My Drive/Colab Notebooks/matrix_three_road_signs\n"
          ],
          "name": "stdout"
        }
      ]
    },
    {
      "cell_type": "code",
      "metadata": {
        "id": "aLe7r6nwWcIk",
        "colab_type": "code",
        "colab": {}
      },
      "source": [
        "train = pd.read_pickle('data/train.p')\n",
        "test = pd.read_pickle('data/test.p')\n",
        "signs = pd.read_csv('data/signnames.csv')"
      ],
      "execution_count": 0,
      "outputs": []
    },
    {
      "cell_type": "code",
      "metadata": {
        "id": "LRP4ph9xWgGK",
        "colab_type": "code",
        "colab": {
          "base_uri": "https://localhost:8080/",
          "height": 33
        },
        "outputId": "d477404c-df49-4871-9ec2-2deb314c25dd"
      },
      "source": [
        "\n",
        "x_train, y_train, x_test, y_test = train['features'], train['labels'], test['features'], test['labels']\n",
        "\n",
        "x_train.shape, y_train.shape, x_test.shape, y_test.shape"
      ],
      "execution_count": 5,
      "outputs": [
        {
          "output_type": "execute_result",
          "data": {
            "text/plain": [
              "((34799, 32, 32, 3), (34799,), (4410, 32, 32, 3), (4410,))"
            ]
          },
          "metadata": {
            "tags": []
          },
          "execution_count": 5
        }
      ]
    },
    {
      "cell_type": "code",
      "metadata": {
        "id": "1oCP8noCWjTb",
        "colab_type": "code",
        "colab": {}
      },
      "source": [
        "\n",
        "if y_train.ndim == 1: y_train = to_categorical(y_train)\n",
        "if y_test.ndim == 1: y_test = to_categorical(y_test)\n",
        "\n",
        "input_shape = x_train.shape[1:]\n",
        "num_classes = y_train.shape[1]"
      ],
      "execution_count": 0,
      "outputs": []
    },
    {
      "cell_type": "code",
      "metadata": {
        "id": "GfVQviF-WlDS",
        "colab_type": "code",
        "colab": {}
      },
      "source": [
        "def train_model(model, x_train, y_train, params_fit={}):\n",
        "  model.compile(loss='categorical_crossentropy', optimizer='Adam', metrics=['accuracy'])\n",
        "\n",
        "  log_dir = os.path.join('logs', datetime.datetime.now().strftime(\"%Y%m%d-%H%M%S\"))\n",
        "  tensorboard_callback = tf.keras.callbacks.TensorBoard(log_dir, histogram_freq=1)\n",
        "\n",
        "  model.fit(\n",
        "      x_train, \n",
        "      y_train,\n",
        "      batch_size = params_fit.get('batch_size', 128),\n",
        "      epochs= params_fit.get('epochs', 5),\n",
        "      verbose = params_fit.get('verbose', 1),\n",
        "      validation_data = params_fit.get('validation_data', (x_train, y_train)),\n",
        "      callbacks = [tensorboard_callback]\n",
        "      )\n",
        "  \n",
        "  return model\n",
        "\n",
        "def predict(model_trained, x_test, y_test, scoring=accuracy_score):\n",
        "\n",
        "  y_test_norm = np.argmax(y_test, axis =1)\n",
        "\n",
        "  y_pred_prob = model_trained.predict(x_test)\n",
        "  y_pred = np.argmax(y_pred_prob, axis = 1)\n",
        "  return scoring(y_test_norm, y_pred)"
      ],
      "execution_count": 0,
      "outputs": []
    },
    {
      "cell_type": "code",
      "metadata": {
        "id": "u1ng_P9CWn2y",
        "colab_type": "code",
        "colab": {}
      },
      "source": [
        "def get_cnn_model_v5(input_shape, num_classes):\n",
        "  return Sequential([\n",
        "                    Conv2D(filters=32, kernel_size=(3,3), activation='relu', input_shape= input_shape ),\n",
        "                    Conv2D(filters=32, kernel_size=(3,3), activation='relu', padding='same'),\n",
        "                    MaxPool2D(),\n",
        "                    Dropout(0.3),\n",
        "\n",
        "                    Conv2D(filters=64, kernel_size=(3,3), activation='relu', padding='same'),\n",
        "                    Conv2D(filters=64, kernel_size=(3,3), activation='relu'),\n",
        "                    MaxPool2D(),\n",
        "                    Dropout(0.3),      \n",
        "\n",
        "                    Conv2D(filters=64, kernel_size=(3,3), activation='relu', padding='same'),\n",
        "                    Conv2D(filters=64, kernel_size=(3,3), activation='relu'),\n",
        "                    MaxPool2D(),\n",
        "                    Dropout(0.3),                \n",
        "\n",
        "                    Flatten(),\n",
        "\n",
        "                    Dense(1024, activation='relu'),\n",
        "                    Dropout(0.3),\n",
        "\n",
        "                    Dense(1024, activation='relu'),\n",
        "                    Dropout(0.3),\n",
        "\n",
        "                    Dense(num_classes, activation='softmax')\n",
        "\n",
        "                    ])"
      ],
      "execution_count": 0,
      "outputs": []
    },
    {
      "cell_type": "code",
      "metadata": {
        "id": "VivF9jRqWqML",
        "colab_type": "code",
        "colab": {
          "base_uri": "https://localhost:8080/",
          "height": 196
        },
        "outputId": "8cc3a6af-30b5-4529-b98b-bd71f7dcfb0f"
      },
      "source": [
        "\n",
        "def train_and_predict(model):\n",
        "  model_trained = train_model(model, x_train, y_train)\n",
        "  return predict(model_trained, x_test, y_test)\n",
        "\n",
        "train_and_predict(get_cnn_model_v5(input_shape, num_classes))"
      ],
      "execution_count": 9,
      "outputs": [
        {
          "output_type": "stream",
          "text": [
            "Epoch 1/5\n",
            "272/272 [==============================] - 6s 24ms/step - loss: 2.6979 - accuracy: 0.2650 - val_loss: 1.2650 - val_accuracy: 0.5927\n",
            "Epoch 2/5\n",
            "272/272 [==============================] - 6s 22ms/step - loss: 1.0299 - accuracy: 0.6611 - val_loss: 0.2720 - val_accuracy: 0.9211\n",
            "Epoch 3/5\n",
            "272/272 [==============================] - 6s 22ms/step - loss: 0.4734 - accuracy: 0.8507 - val_loss: 0.1027 - val_accuracy: 0.9704\n",
            "Epoch 4/5\n",
            "272/272 [==============================] - 6s 22ms/step - loss: 0.2873 - accuracy: 0.9116 - val_loss: 0.0465 - val_accuracy: 0.9874\n",
            "Epoch 5/5\n",
            "272/272 [==============================] - 6s 22ms/step - loss: 0.2042 - accuracy: 0.9390 - val_loss: 0.0367 - val_accuracy: 0.9906\n"
          ],
          "name": "stdout"
        },
        {
          "output_type": "execute_result",
          "data": {
            "text/plain": [
              "0.9630385487528345"
            ]
          },
          "metadata": {
            "tags": []
          },
          "execution_count": 9
        }
      ]
    },
    {
      "cell_type": "code",
      "metadata": {
        "id": "SbgGqydhWsIJ",
        "colab_type": "code",
        "colab": {}
      },
      "source": [
        "def get_model(params):\n",
        "  return Sequential([\n",
        "                    Conv2D(filters=32, kernel_size=(3,3), activation='relu', input_shape= input_shape ),\n",
        "                    Conv2D(filters=32, kernel_size=(3,3), activation='relu', padding='same'),\n",
        "                    MaxPool2D(),\n",
        "                    Dropout(params['dropout_cnn_block_one']),\n",
        "\n",
        "                    Conv2D(filters=64, kernel_size=(3,3), activation='relu', padding='same'),\n",
        "                    Conv2D(filters=64, kernel_size=(3,3), activation='relu'),\n",
        "                    MaxPool2D(),\n",
        "                    Dropout(params['dropout_cnn_block_two']),      \n",
        "\n",
        "                    Conv2D(filters=128, kernel_size=(3,3), activation='relu', padding='same'),\n",
        "                    Conv2D(filters=128, kernel_size=(3,3), activation='relu'),\n",
        "                    MaxPool2D(),\n",
        "                    Dropout(params['dropout_cnn_block_three']),                \n",
        "\n",
        "                    Flatten(),\n",
        "\n",
        "                    Dense(1024, activation='relu'),\n",
        "                    Dropout(params['dropout_dense_block_one']),\n",
        "\n",
        "                    Dense(1024, activation='relu'),\n",
        "                    Dropout(params['dropout_dense_block_two']),\n",
        "\n",
        "                    Dense(num_classes, activation='softmax')\n",
        "\n",
        "                    ])"
      ],
      "execution_count": 0,
      "outputs": []
    },
    {
      "cell_type": "code",
      "metadata": {
        "id": "K7DLQG_3WxQh",
        "colab_type": "code",
        "colab": {}
      },
      "source": [
        "\n",
        "def func_obj(params):\n",
        "  model = get_model(params)\n",
        "  model.compile(loss='categorical_crossentropy', optimizer='Adam', metrics=['accuracy'])\n",
        "\n",
        "  log_dir = os.path.join('logs', datetime.datetime.now().strftime(\"%Y%m%d-%H%M%S\"))\n",
        "  tensorboard_callback = tf.keras.callbacks.TensorBoard(log_dir, histogram_freq=1)\n",
        "\n",
        "  model.fit(\n",
        "      x_train, \n",
        "      y_train,\n",
        "      batch_size = int(params.get('batch_size', 128)),\n",
        "      epochs= 5,\n",
        "      verbose = 0\n",
        "      )\n",
        "  \n",
        "  score = model.evaluate(x_test, y_test, verbose =0)\n",
        "  accuracy = score[1]\n",
        "  print(params, 'accuracy={}'.format(accuracy))\n",
        "  \n",
        "  return {'loss': -accuracy, 'status': STATUS_OK, 'model': model}"
      ],
      "execution_count": 0,
      "outputs": []
    },
    {
      "cell_type": "code",
      "metadata": {
        "id": "2HvTlQVhWzXC",
        "colab_type": "code",
        "colab": {
          "base_uri": "https://localhost:8080/",
          "height": 915
        },
        "outputId": "0b7f6a9e-9c11-483e-b606-c672948cd97f"
      },
      "source": [
        "space = {\n",
        "    'batch_size' : hp.quniform('batch_size', 100, 200, 10),\n",
        "    'dropout_cnn_block_one': hp.uniform('dropout_cnn_block_one', 0.3,0.5),\n",
        "    'dropout_cnn_block_two': hp.uniform('dropout_cnn_block_two', 0.3,0.5),\n",
        "    'dropout_cnn_block_three': hp.uniform('dropout_cnn_block_three', 0.3,0.5),    \n",
        "    \n",
        "    'dropout_dense_block_one': hp.uniform('dropout_dense_block_one', 0.3,0.7),\n",
        "    'dropout_dense_block_two': hp.uniform('dropout_dense_block_two', 0.3,0.7)\n",
        "\n",
        "}\n",
        "\n",
        "best = fmin(\n",
        "    func_obj,\n",
        "    space,\n",
        "    tpe.suggest,\n",
        "    25,\n",
        "    Trials()\n",
        ")"
      ],
      "execution_count": 12,
      "outputs": [
        {
          "output_type": "stream",
          "text": [
            "ERROR! Session/line number was not unique in\r  0%|          | 0/25 [00:00<?, ?it/s, best loss: ?]\n",
            "database. History logging moved to new session\n",
            "59\n",
            "{'batch_size': 200.0, 'dropout_cnn_block_one': 0.49947082041689506, 'dropout_cnn_block_three': 0.4377287103468549, 'dropout_cnn_block_two': 0.33171000746190915, 'dropout_dense_block_one': 0.3021197770884801, 'dropout_dense_block_two': 0.5052330284993147}\n",
            "accuracy=0.9476190209388733\n",
            "{'batch_size': 110.0, 'dropout_cnn_block_one': 0.3858808496505331, 'dropout_cnn_block_three': 0.46549749615918423, 'dropout_cnn_block_two': 0.4610673646048968, 'dropout_dense_block_one': 0.4417902709232945, 'dropout_dense_block_two': 0.3805801944099469}\n",
            "accuracy=0.9517006874084473\n",
            "{'batch_size': 120.0, 'dropout_cnn_block_one': 0.3949302785375894, 'dropout_cnn_block_three': 0.4103730807166443, 'dropout_cnn_block_two': 0.4759366339336462, 'dropout_dense_block_one': 0.45116033260061955, 'dropout_dense_block_two': 0.6455682825445036}\n",
            "accuracy=0.9208616614341736\n",
            "{'batch_size': 170.0, 'dropout_cnn_block_one': 0.36062884685239505, 'dropout_cnn_block_three': 0.32952106754480864, 'dropout_cnn_block_two': 0.3476398299796738, 'dropout_dense_block_one': 0.45235440550461403, 'dropout_dense_block_two': 0.6343730936101005}\n",
            "accuracy=0.9321995377540588\n",
            "{'batch_size': 110.0, 'dropout_cnn_block_one': 0.45325273135731886, 'dropout_cnn_block_three': 0.4338148593110005, 'dropout_cnn_block_two': 0.4664528585383053, 'dropout_dense_block_one': 0.3327644285545742, 'dropout_dense_block_two': 0.31438053366836716}\n",
            "accuracy=0.9560090899467468\n",
            "{'batch_size': 160.0, 'dropout_cnn_block_one': 0.3848438325960252, 'dropout_cnn_block_three': 0.4952914297613421, 'dropout_cnn_block_two': 0.33136932798556, 'dropout_dense_block_one': 0.4404444953003529, 'dropout_dense_block_two': 0.3886218032332937}\n",
            "accuracy=0.9503401517868042\n",
            "{'batch_size': 130.0, 'dropout_cnn_block_one': 0.4475139398584812, 'dropout_cnn_block_three': 0.4339038218537941, 'dropout_cnn_block_two': 0.38116415216621347, 'dropout_dense_block_one': 0.5529757611476006, 'dropout_dense_block_two': 0.37078651044265887}\n",
            "accuracy=0.934920608997345\n",
            "{'batch_size': 120.0, 'dropout_cnn_block_one': 0.36751713512249995, 'dropout_cnn_block_three': 0.4344684337338395, 'dropout_cnn_block_two': 0.46350134565419604, 'dropout_dense_block_one': 0.487865070166486, 'dropout_dense_block_two': 0.4199893718711942}\n",
            "accuracy=0.9058957099914551\n",
            "{'batch_size': 110.0, 'dropout_cnn_block_one': 0.33176223483862816, 'dropout_cnn_block_three': 0.36419899098696223, 'dropout_cnn_block_two': 0.3868807986101056, 'dropout_dense_block_one': 0.4343748882071985, 'dropout_dense_block_two': 0.4473011497212971}\n",
            "accuracy=0.961904764175415\n",
            "{'batch_size': 190.0, 'dropout_cnn_block_one': 0.3716338872954681, 'dropout_cnn_block_three': 0.34441500804532865, 'dropout_cnn_block_two': 0.3506938886997999, 'dropout_dense_block_one': 0.5802108527385996, 'dropout_dense_block_two': 0.4729355479440605}\n",
            "accuracy=0.9088435173034668\n",
            "{'batch_size': 150.0, 'dropout_cnn_block_one': 0.3935133624673035, 'dropout_cnn_block_three': 0.44780489574706844, 'dropout_cnn_block_two': 0.3424668223379591, 'dropout_dense_block_one': 0.6245983460442206, 'dropout_dense_block_two': 0.36785056016975715}\n",
            "accuracy=0.9263038635253906\n",
            "{'batch_size': 150.0, 'dropout_cnn_block_one': 0.43120442283787236, 'dropout_cnn_block_three': 0.36514909958849096, 'dropout_cnn_block_two': 0.4204868647631611, 'dropout_dense_block_one': 0.46428938305334966, 'dropout_dense_block_two': 0.3732592056512361}\n",
            "accuracy=0.9145124554634094\n",
            "{'batch_size': 160.0, 'dropout_cnn_block_one': 0.3366418203618118, 'dropout_cnn_block_three': 0.42715073578077384, 'dropout_cnn_block_two': 0.3988840206531248, 'dropout_dense_block_one': 0.6645729814315154, 'dropout_dense_block_two': 0.31049408298968306}\n",
            "accuracy=0.9673469662666321\n",
            "{'batch_size': 190.0, 'dropout_cnn_block_one': 0.4721691650911941, 'dropout_cnn_block_three': 0.3740902262718643, 'dropout_cnn_block_two': 0.48743731862634915, 'dropout_dense_block_one': 0.5119637262417037, 'dropout_dense_block_two': 0.46862933378329186}\n",
            "accuracy=0.8272109031677246\n",
            "{'batch_size': 150.0, 'dropout_cnn_block_one': 0.3139809580332889, 'dropout_cnn_block_three': 0.37426087740500763, 'dropout_cnn_block_two': 0.40171082608643705, 'dropout_dense_block_one': 0.36431829187496945, 'dropout_dense_block_two': 0.34503001572636627}\n",
            "accuracy=0.9612244963645935\n",
            "{'batch_size': 170.0, 'dropout_cnn_block_one': 0.36388185105829285, 'dropout_cnn_block_three': 0.3807840630709639, 'dropout_cnn_block_two': 0.4857087160220545, 'dropout_dense_block_one': 0.5254261805852413, 'dropout_dense_block_two': 0.6914355166594011}\n",
            "accuracy=0.8653061389923096\n",
            "{'batch_size': 140.0, 'dropout_cnn_block_one': 0.3743234715703262, 'dropout_cnn_block_three': 0.425730174059582, 'dropout_cnn_block_two': 0.33470264741399935, 'dropout_dense_block_one': 0.6627463415638865, 'dropout_dense_block_two': 0.652876347785387}\n",
            "accuracy=0.898639440536499\n",
            "{'batch_size': 150.0, 'dropout_cnn_block_one': 0.38736246355019627, 'dropout_cnn_block_three': 0.44250326766276715, 'dropout_cnn_block_two': 0.4373874351011341, 'dropout_dense_block_one': 0.4590983587913807, 'dropout_dense_block_two': 0.5453600630428401}\n",
            "accuracy=0.8977324366569519\n",
            "{'batch_size': 190.0, 'dropout_cnn_block_one': 0.40762435430340527, 'dropout_cnn_block_three': 0.3037204410594809, 'dropout_cnn_block_two': 0.3228706531162989, 'dropout_dense_block_one': 0.3200073533720618, 'dropout_dense_block_two': 0.38891614778560335}\n",
            "accuracy=0.9535147547721863\n",
            "{'batch_size': 130.0, 'dropout_cnn_block_one': 0.48254041693915656, 'dropout_cnn_block_three': 0.3831171040418823, 'dropout_cnn_block_two': 0.33709039970981836, 'dropout_dense_block_one': 0.4304220707899459, 'dropout_dense_block_two': 0.49466826584152135}\n",
            "accuracy=0.9394558072090149\n",
            "{'batch_size': 170.0, 'dropout_cnn_block_one': 0.30296323936135355, 'dropout_cnn_block_three': 0.47030637008360776, 'dropout_cnn_block_two': 0.3728192073531024, 'dropout_dense_block_one': 0.6941428650847606, 'dropout_dense_block_two': 0.571484898106974}\n",
            "accuracy=0.8791383504867554\n",
            "{'batch_size': 180.0, 'dropout_cnn_block_one': 0.33466948921862927, 'dropout_cnn_block_three': 0.40577254822255954, 'dropout_cnn_block_two': 0.3785708927807327, 'dropout_dense_block_one': 0.39122316316896194, 'dropout_dense_block_two': 0.3090170956394861}\n",
            "accuracy=0.9226757287979126\n",
            "{'batch_size': 100.0, 'dropout_cnn_block_one': 0.3350979584203038, 'dropout_cnn_block_three': 0.3236493417818084, 'dropout_cnn_block_two': 0.40854857765866714, 'dropout_dense_block_one': 0.6047166188843321, 'dropout_dense_block_two': 0.4372043266129494}\n",
            "accuracy=0.960090696811676\n",
            "{'batch_size': 160.0, 'dropout_cnn_block_one': 0.3392875908609873, 'dropout_cnn_block_three': 0.35521880595404126, 'dropout_cnn_block_two': 0.43634373330078274, 'dropout_dense_block_one': 0.3908343480381571, 'dropout_dense_block_two': 0.5559246335248023}\n",
            "accuracy=0.9625850319862366\n",
            "{'batch_size': 160.0, 'dropout_cnn_block_one': 0.346191328035235, 'dropout_cnn_block_three': 0.3007213833455684, 'dropout_cnn_block_two': 0.428245612070358, 'dropout_dense_block_one': 0.3934680679740625, 'dropout_dense_block_two': 0.5779852790701647}\n",
            "accuracy=0.9412698149681091\n",
            "100%|██████████| 25/25 [08:22<00:00, 20.09s/it, best loss: -0.9673469662666321]\n"
          ],
          "name": "stdout"
        }
      ]
    },
    {
      "cell_type": "code",
      "metadata": {
        "id": "EAl2E6bvW5mY",
        "colab_type": "code",
        "colab": {}
      },
      "source": [
        ""
      ],
      "execution_count": 0,
      "outputs": []
    }
  ]
}